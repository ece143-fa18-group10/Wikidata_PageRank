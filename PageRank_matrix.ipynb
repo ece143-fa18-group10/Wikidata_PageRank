{
 "cells": [
  {
   "cell_type": "code",
   "execution_count": 181,
   "metadata": {
    "collapsed": true
   },
   "outputs": [],
   "source": [
    "def pr_matrix(fname = 'input.txt'):\n",
    "    assert isinstance(fname, str)\n",
    "    import csv\n",
    "    with open (fname) as input_file:\n",
    "        pr = list(csv.reader(input_file, delimiter=' '))\n",
    "        import numpy as np\n",
    "        counter = 0\n",
    "        print(len(pr))\n",
    "        for i in range(len(pr)):\n",
    "            if (pr[i][0] == 'n'):\n",
    "                counter += 1\n",
    "        pr_matrix = np.empty([counter,2])\n",
    "        for i in range(len(pr_matrix)):\n",
    "            pr_matrix[i][0] = pr[i][1]\n",
    "            pr_matrix[i][1] = 1/counter\n",
    "    return pr_matrix"
   ]
  },
  {
   "cell_type": "code",
   "execution_count": 182,
   "metadata": {},
   "outputs": [
    {
     "name": "stdout",
     "output_type": "stream",
     "text": [
      "25814\n"
     ]
    },
    {
     "data": {
      "text/plain": [
       "1.0"
      ]
     },
     "execution_count": 182,
     "metadata": {},
     "output_type": "execute_result"
    }
   ],
   "source": [
    "x = pr_matrix('input.txt')\n",
    "type(x)\n",
    "x[1][0]"
   ]
  },
  {
   "cell_type": "code",
   "execution_count": null,
   "metadata": {
    "collapsed": true
   },
   "outputs": [],
   "source": []
  }
 ],
 "metadata": {
  "kernelspec": {
   "display_name": "Python 3",
   "language": "python",
   "name": "python3"
  },
  "language_info": {
   "codemirror_mode": {
    "name": "ipython",
    "version": 3
   },
   "file_extension": ".py",
   "mimetype": "text/x-python",
   "name": "python",
   "nbconvert_exporter": "python",
   "pygments_lexer": "ipython3",
   "version": "3.6.3"
  }
 },
 "nbformat": 4,
 "nbformat_minor": 2
}
