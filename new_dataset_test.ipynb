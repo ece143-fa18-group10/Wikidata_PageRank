{
 "cells": [
  {
   "cell_type": "code",
   "execution_count": 5,
   "metadata": {},
   "outputs": [
    {
     "data": {
      "text/plain": [
       "'n 0 http://www.berkeley.edu/'"
      ]
     },
     "execution_count": 5,
     "metadata": {},
     "output_type": "execute_result"
    }
   ],
   "source": [
    "from urllib.request import urlopen\n",
    "u='http://www.cs.cornell.edu/courses/cs685/2002fa/data/gr0.California'\n",
    "response = urlopen(u)\n",
    "words = [i.strip().decode('utf8') for i in response.readlines()]\n",
    "words[0]\n"
   ]
  },
  {
   "cell_type": "code",
   "execution_count": 6,
   "metadata": {},
   "outputs": [
    {
     "name": "stdout",
     "output_type": "stream",
     "text": [
      "n 0 http://www.berkeley.edu/\n",
      "n 1 http://www.caltech.edu/\n",
      "n 2 http://www.realestatenet.com/\n",
      "n 3 http://www.ucsb.edu/\n",
      "n 4 http://www.washingtonpost.com/wp-srv/national/longterm/50states/ca.htm\n",
      "n 5 http://www-ucpress.berkeley.edu/\n",
      "n 6 http://www.ucr.edu/\n",
      "n 7 http://www.tegnetcorporation.com/\n",
      "n 8 http://www.research.digital.com/SRC/virtual-tourist/California.html\n",
      "n 9 http://www.leginfo.ca.gov/calaw.html\n",
      "n 10 http://www.csun.edu/\n"
     ]
    }
   ],
   "source": [
    "for i, word in enumerate(words):\n",
    "    if i>10:\n",
    "        break\n",
    "    print(word)"
   ]
  },
  {
   "cell_type": "code",
   "execution_count": 7,
   "metadata": {},
   "outputs": [
    {
     "name": "stdout",
     "output_type": "stream",
     "text": [
      "['e 80 3301', 'e 80 3302', 'e 80 1489', 'e 81 0', 'e 81 22', 'e 81 3350', 'e 81 3351', 'e 81 3352', 'e 82 3399', 'e 82 3400']\n"
     ]
    }
   ],
   "source": [
    "print(words[10000:10010])"
   ]
  },
  {
   "cell_type": "code",
   "execution_count": 13,
   "metadata": {},
   "outputs": [
    {
     "name": "stdout",
     "output_type": "stream",
     "text": [
      "25814\n",
      "<class 'list'>\n",
      "n\n"
     ]
    }
   ],
   "source": [
    "print(len(words))\n",
    "print(type(words))\n",
    "print(words[0][0])"
   ]
  },
  {
   "cell_type": "code",
   "execution_count": 14,
   "metadata": {
    "collapsed": true
   },
   "outputs": [],
   "source": [
    "import numpy as np\n",
    "counter = 0\n",
    "for i in range(len(words)):\n",
    "    if (words[i][0] is not 'n'):\n",
    "        break;\n",
    "    counter += 1"
   ]
  },
  {
   "cell_type": "code",
   "execution_count": 15,
   "metadata": {},
   "outputs": [
    {
     "name": "stdout",
     "output_type": "stream",
     "text": [
      "9664\n"
     ]
    }
   ],
   "source": [
    "print(counter)"
   ]
  },
  {
   "cell_type": "code",
   "execution_count": 18,
   "metadata": {},
   "outputs": [
    {
     "name": "stdout",
     "output_type": "stream",
     "text": [
      "e\n",
      "n\n"
     ]
    }
   ],
   "source": [
    "print(words[9664][0])\n",
    "print(words[9663][0])"
   ]
  },
  {
   "cell_type": "code",
   "execution_count": null,
   "metadata": {
    "collapsed": true
   },
   "outputs": [],
   "source": []
  }
 ],
 "metadata": {
  "kernelspec": {
   "display_name": "Python 3",
   "language": "python",
   "name": "python3"
  },
  "language_info": {
   "codemirror_mode": {
    "name": "ipython",
    "version": 3
   },
   "file_extension": ".py",
   "mimetype": "text/x-python",
   "name": "python",
   "nbconvert_exporter": "python",
   "pygments_lexer": "ipython3",
   "version": "3.6.3"
  }
 },
 "nbformat": 4,
 "nbformat_minor": 2
}
